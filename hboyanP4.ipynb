{
 "cells": [
  {
   "cell_type": "markdown",
   "metadata": {},
   "source": [
    "# Classification with stumbleupon data\n",
    "\n",
    "Project 4 has been changed since scraping was untenable. The project now focuses on the stumbleupon kaggle dataset. For more information on this dataset, [check out the website here](https://www.kaggle.com/c/stumbleupon).\n",
    "\n",
    "---"
   ]
  },
  {
   "cell_type": "markdown",
   "metadata": {},
   "source": [
    "## 1. Load in the dataset\n",
    "\n",
    "This is the only part completed for you.\n",
    "\n",
    "---"
   ]
  },
  {
   "cell_type": "code",
   "execution_count": 279,
   "metadata": {
    "collapsed": true
   },
   "outputs": [],
   "source": [
    "import pandas as pd\n",
    "import numpy as np\n",
    "import matplotlib.pyplot as plt\n",
    "import seaborn as sns\n",
    "\n",
    "sns.set_style('white')\n",
    "\n",
    "%matplotlib inline"
   ]
  },
  {
   "cell_type": "code",
   "execution_count": 280,
   "metadata": {
    "collapsed": false
   },
   "outputs": [],
   "source": [
    "su = pd.read_csv('../dataset/evergreen.tsv', delimiter='\\t')"
   ]
  },
  {
   "cell_type": "markdown",
   "metadata": {},
   "source": [
    "## 2. Clean up/examine your data\n",
    "\n",
    "Some of the columns may have values that need changing or that are of the wrong type. There could also be columns that aren't very useful.\n",
    "\n",
    "---"
   ]
  },
  {
   "cell_type": "code",
   "execution_count": 281,
   "metadata": {
    "collapsed": false
   },
   "outputs": [
    {
     "data": {
      "text/plain": [
       "url                                object\n",
       "urlid                               int64\n",
       "boilerplate                        object\n",
       "alchemy_category                   object\n",
       "alchemy_category_score             object\n",
       "avglinksize                       float64\n",
       "commonlinkratio_1                 float64\n",
       "commonlinkratio_2                 float64\n",
       "commonlinkratio_3                 float64\n",
       "commonlinkratio_4                 float64\n",
       "compression_ratio                 float64\n",
       "embed_ratio                       float64\n",
       "framebased                          int64\n",
       "frameTagRatio                     float64\n",
       "hasDomainLink                       int64\n",
       "html_ratio                        float64\n",
       "image_ratio                       float64\n",
       "is_news                            object\n",
       "lengthyLinkDomain                   int64\n",
       "linkwordscore                       int64\n",
       "news_front_page                    object\n",
       "non_markup_alphanum_characters      int64\n",
       "numberOfLinks                       int64\n",
       "numwords_in_url                     int64\n",
       "parametrizedLinkRatio             float64\n",
       "spelling_errors_ratio             float64\n",
       "label                               int64\n",
       "dtype: object"
      ]
     },
     "execution_count": 281,
     "metadata": {},
     "output_type": "execute_result"
    }
   ],
   "source": [
    "su.dtypes"
   ]
  },
  {
   "cell_type": "code",
   "execution_count": 282,
   "metadata": {
    "collapsed": false
   },
   "outputs": [
    {
     "data": {
      "text/html": [
       "<div>\n",
       "<table border=\"1\" class=\"dataframe\">\n",
       "  <thead>\n",
       "    <tr style=\"text-align: right;\">\n",
       "      <th></th>\n",
       "      <th>urlid</th>\n",
       "      <th>avglinksize</th>\n",
       "      <th>commonlinkratio_1</th>\n",
       "      <th>commonlinkratio_2</th>\n",
       "      <th>commonlinkratio_3</th>\n",
       "      <th>commonlinkratio_4</th>\n",
       "      <th>compression_ratio</th>\n",
       "      <th>embed_ratio</th>\n",
       "      <th>framebased</th>\n",
       "      <th>frameTagRatio</th>\n",
       "      <th>...</th>\n",
       "      <th>html_ratio</th>\n",
       "      <th>image_ratio</th>\n",
       "      <th>lengthyLinkDomain</th>\n",
       "      <th>linkwordscore</th>\n",
       "      <th>non_markup_alphanum_characters</th>\n",
       "      <th>numberOfLinks</th>\n",
       "      <th>numwords_in_url</th>\n",
       "      <th>parametrizedLinkRatio</th>\n",
       "      <th>spelling_errors_ratio</th>\n",
       "      <th>label</th>\n",
       "    </tr>\n",
       "  </thead>\n",
       "  <tbody>\n",
       "    <tr>\n",
       "      <th>count</th>\n",
       "      <td>7395.000000</td>\n",
       "      <td>7395.000000</td>\n",
       "      <td>7395.000000</td>\n",
       "      <td>7395.000000</td>\n",
       "      <td>7395.000000</td>\n",
       "      <td>7395.000000</td>\n",
       "      <td>7395.000000</td>\n",
       "      <td>7395.000000</td>\n",
       "      <td>7395.0</td>\n",
       "      <td>7395.000000</td>\n",
       "      <td>...</td>\n",
       "      <td>7395.000000</td>\n",
       "      <td>7395.000000</td>\n",
       "      <td>7395.000000</td>\n",
       "      <td>7395.000000</td>\n",
       "      <td>7395.000000</td>\n",
       "      <td>7395.000000</td>\n",
       "      <td>7395.000000</td>\n",
       "      <td>7395.000000</td>\n",
       "      <td>7395.000000</td>\n",
       "      <td>7395.000000</td>\n",
       "    </tr>\n",
       "    <tr>\n",
       "      <th>mean</th>\n",
       "      <td>5305.704665</td>\n",
       "      <td>2.761823</td>\n",
       "      <td>0.468230</td>\n",
       "      <td>0.214080</td>\n",
       "      <td>0.092062</td>\n",
       "      <td>0.049262</td>\n",
       "      <td>2.255103</td>\n",
       "      <td>-0.103750</td>\n",
       "      <td>0.0</td>\n",
       "      <td>0.056423</td>\n",
       "      <td>...</td>\n",
       "      <td>0.233778</td>\n",
       "      <td>0.275709</td>\n",
       "      <td>0.660311</td>\n",
       "      <td>30.077079</td>\n",
       "      <td>5716.598242</td>\n",
       "      <td>178.754564</td>\n",
       "      <td>4.960649</td>\n",
       "      <td>0.172864</td>\n",
       "      <td>0.101221</td>\n",
       "      <td>0.513320</td>\n",
       "    </tr>\n",
       "    <tr>\n",
       "      <th>std</th>\n",
       "      <td>3048.384114</td>\n",
       "      <td>8.619793</td>\n",
       "      <td>0.203133</td>\n",
       "      <td>0.146743</td>\n",
       "      <td>0.095978</td>\n",
       "      <td>0.072629</td>\n",
       "      <td>5.704313</td>\n",
       "      <td>0.306545</td>\n",
       "      <td>0.0</td>\n",
       "      <td>0.041446</td>\n",
       "      <td>...</td>\n",
       "      <td>0.052487</td>\n",
       "      <td>1.919320</td>\n",
       "      <td>0.473636</td>\n",
       "      <td>20.393101</td>\n",
       "      <td>8875.432430</td>\n",
       "      <td>179.466198</td>\n",
       "      <td>3.233111</td>\n",
       "      <td>0.183286</td>\n",
       "      <td>0.079231</td>\n",
       "      <td>0.499856</td>\n",
       "    </tr>\n",
       "    <tr>\n",
       "      <th>min</th>\n",
       "      <td>1.000000</td>\n",
       "      <td>0.000000</td>\n",
       "      <td>0.000000</td>\n",
       "      <td>0.000000</td>\n",
       "      <td>0.000000</td>\n",
       "      <td>0.000000</td>\n",
       "      <td>0.000000</td>\n",
       "      <td>-1.000000</td>\n",
       "      <td>0.0</td>\n",
       "      <td>0.000000</td>\n",
       "      <td>...</td>\n",
       "      <td>0.045564</td>\n",
       "      <td>-1.000000</td>\n",
       "      <td>0.000000</td>\n",
       "      <td>0.000000</td>\n",
       "      <td>0.000000</td>\n",
       "      <td>1.000000</td>\n",
       "      <td>0.000000</td>\n",
       "      <td>0.000000</td>\n",
       "      <td>0.000000</td>\n",
       "      <td>0.000000</td>\n",
       "    </tr>\n",
       "    <tr>\n",
       "      <th>25%</th>\n",
       "      <td>2688.500000</td>\n",
       "      <td>1.602062</td>\n",
       "      <td>0.340370</td>\n",
       "      <td>0.105263</td>\n",
       "      <td>0.022222</td>\n",
       "      <td>0.000000</td>\n",
       "      <td>0.442616</td>\n",
       "      <td>0.000000</td>\n",
       "      <td>0.0</td>\n",
       "      <td>0.028502</td>\n",
       "      <td>...</td>\n",
       "      <td>0.201061</td>\n",
       "      <td>0.025900</td>\n",
       "      <td>0.000000</td>\n",
       "      <td>14.000000</td>\n",
       "      <td>1579.000000</td>\n",
       "      <td>82.000000</td>\n",
       "      <td>3.000000</td>\n",
       "      <td>0.040984</td>\n",
       "      <td>0.068739</td>\n",
       "      <td>0.000000</td>\n",
       "    </tr>\n",
       "    <tr>\n",
       "      <th>50%</th>\n",
       "      <td>5304.000000</td>\n",
       "      <td>2.088235</td>\n",
       "      <td>0.481481</td>\n",
       "      <td>0.202454</td>\n",
       "      <td>0.068627</td>\n",
       "      <td>0.022222</td>\n",
       "      <td>0.483680</td>\n",
       "      <td>0.000000</td>\n",
       "      <td>0.0</td>\n",
       "      <td>0.045775</td>\n",
       "      <td>...</td>\n",
       "      <td>0.230564</td>\n",
       "      <td>0.083051</td>\n",
       "      <td>1.000000</td>\n",
       "      <td>25.000000</td>\n",
       "      <td>3500.000000</td>\n",
       "      <td>139.000000</td>\n",
       "      <td>5.000000</td>\n",
       "      <td>0.113402</td>\n",
       "      <td>0.089312</td>\n",
       "      <td>1.000000</td>\n",
       "    </tr>\n",
       "    <tr>\n",
       "      <th>75%</th>\n",
       "      <td>7946.500000</td>\n",
       "      <td>2.627451</td>\n",
       "      <td>0.616604</td>\n",
       "      <td>0.300000</td>\n",
       "      <td>0.133333</td>\n",
       "      <td>0.065065</td>\n",
       "      <td>0.578227</td>\n",
       "      <td>0.000000</td>\n",
       "      <td>0.0</td>\n",
       "      <td>0.073459</td>\n",
       "      <td>...</td>\n",
       "      <td>0.260770</td>\n",
       "      <td>0.236700</td>\n",
       "      <td>1.000000</td>\n",
       "      <td>43.000000</td>\n",
       "      <td>6377.000000</td>\n",
       "      <td>222.000000</td>\n",
       "      <td>7.000000</td>\n",
       "      <td>0.241299</td>\n",
       "      <td>0.112376</td>\n",
       "      <td>1.000000</td>\n",
       "    </tr>\n",
       "    <tr>\n",
       "      <th>max</th>\n",
       "      <td>10566.000000</td>\n",
       "      <td>363.000000</td>\n",
       "      <td>1.000000</td>\n",
       "      <td>1.000000</td>\n",
       "      <td>0.980392</td>\n",
       "      <td>0.980392</td>\n",
       "      <td>21.000000</td>\n",
       "      <td>0.250000</td>\n",
       "      <td>0.0</td>\n",
       "      <td>0.444444</td>\n",
       "      <td>...</td>\n",
       "      <td>0.716883</td>\n",
       "      <td>113.333333</td>\n",
       "      <td>1.000000</td>\n",
       "      <td>100.000000</td>\n",
       "      <td>207952.000000</td>\n",
       "      <td>4997.000000</td>\n",
       "      <td>22.000000</td>\n",
       "      <td>1.000000</td>\n",
       "      <td>1.000000</td>\n",
       "      <td>1.000000</td>\n",
       "    </tr>\n",
       "  </tbody>\n",
       "</table>\n",
       "<p>8 rows × 21 columns</p>\n",
       "</div>"
      ],
      "text/plain": [
       "              urlid  avglinksize  commonlinkratio_1  commonlinkratio_2  \\\n",
       "count   7395.000000  7395.000000        7395.000000        7395.000000   \n",
       "mean    5305.704665     2.761823           0.468230           0.214080   \n",
       "std     3048.384114     8.619793           0.203133           0.146743   \n",
       "min        1.000000     0.000000           0.000000           0.000000   \n",
       "25%     2688.500000     1.602062           0.340370           0.105263   \n",
       "50%     5304.000000     2.088235           0.481481           0.202454   \n",
       "75%     7946.500000     2.627451           0.616604           0.300000   \n",
       "max    10566.000000   363.000000           1.000000           1.000000   \n",
       "\n",
       "       commonlinkratio_3  commonlinkratio_4  compression_ratio  embed_ratio  \\\n",
       "count        7395.000000        7395.000000        7395.000000  7395.000000   \n",
       "mean            0.092062           0.049262           2.255103    -0.103750   \n",
       "std             0.095978           0.072629           5.704313     0.306545   \n",
       "min             0.000000           0.000000           0.000000    -1.000000   \n",
       "25%             0.022222           0.000000           0.442616     0.000000   \n",
       "50%             0.068627           0.022222           0.483680     0.000000   \n",
       "75%             0.133333           0.065065           0.578227     0.000000   \n",
       "max             0.980392           0.980392          21.000000     0.250000   \n",
       "\n",
       "       framebased  frameTagRatio     ...        html_ratio  image_ratio  \\\n",
       "count      7395.0    7395.000000     ...       7395.000000  7395.000000   \n",
       "mean          0.0       0.056423     ...          0.233778     0.275709   \n",
       "std           0.0       0.041446     ...          0.052487     1.919320   \n",
       "min           0.0       0.000000     ...          0.045564    -1.000000   \n",
       "25%           0.0       0.028502     ...          0.201061     0.025900   \n",
       "50%           0.0       0.045775     ...          0.230564     0.083051   \n",
       "75%           0.0       0.073459     ...          0.260770     0.236700   \n",
       "max           0.0       0.444444     ...          0.716883   113.333333   \n",
       "\n",
       "       lengthyLinkDomain  linkwordscore  non_markup_alphanum_characters  \\\n",
       "count        7395.000000    7395.000000                     7395.000000   \n",
       "mean            0.660311      30.077079                     5716.598242   \n",
       "std             0.473636      20.393101                     8875.432430   \n",
       "min             0.000000       0.000000                        0.000000   \n",
       "25%             0.000000      14.000000                     1579.000000   \n",
       "50%             1.000000      25.000000                     3500.000000   \n",
       "75%             1.000000      43.000000                     6377.000000   \n",
       "max             1.000000     100.000000                   207952.000000   \n",
       "\n",
       "       numberOfLinks  numwords_in_url  parametrizedLinkRatio  \\\n",
       "count    7395.000000      7395.000000            7395.000000   \n",
       "mean      178.754564         4.960649               0.172864   \n",
       "std       179.466198         3.233111               0.183286   \n",
       "min         1.000000         0.000000               0.000000   \n",
       "25%        82.000000         3.000000               0.040984   \n",
       "50%       139.000000         5.000000               0.113402   \n",
       "75%       222.000000         7.000000               0.241299   \n",
       "max      4997.000000        22.000000               1.000000   \n",
       "\n",
       "       spelling_errors_ratio        label  \n",
       "count            7395.000000  7395.000000  \n",
       "mean                0.101221     0.513320  \n",
       "std                 0.079231     0.499856  \n",
       "min                 0.000000     0.000000  \n",
       "25%                 0.068739     0.000000  \n",
       "50%                 0.089312     1.000000  \n",
       "75%                 0.112376     1.000000  \n",
       "max                 1.000000     1.000000  \n",
       "\n",
       "[8 rows x 21 columns]"
      ]
     },
     "execution_count": 282,
     "metadata": {},
     "output_type": "execute_result"
    }
   ],
   "source": [
    "su.describe()"
   ]
  },
  {
   "cell_type": "code",
   "execution_count": 283,
   "metadata": {
    "collapsed": false
   },
   "outputs": [
    {
     "data": {
      "text/html": [
       "<div>\n",
       "<table border=\"1\" class=\"dataframe\">\n",
       "  <thead>\n",
       "    <tr style=\"text-align: right;\">\n",
       "      <th></th>\n",
       "      <th>url</th>\n",
       "      <th>urlid</th>\n",
       "      <th>boilerplate</th>\n",
       "      <th>alchemy_category</th>\n",
       "      <th>alchemy_category_score</th>\n",
       "      <th>avglinksize</th>\n",
       "      <th>commonlinkratio_1</th>\n",
       "      <th>commonlinkratio_2</th>\n",
       "      <th>commonlinkratio_3</th>\n",
       "      <th>commonlinkratio_4</th>\n",
       "      <th>...</th>\n",
       "      <th>is_news</th>\n",
       "      <th>lengthyLinkDomain</th>\n",
       "      <th>linkwordscore</th>\n",
       "      <th>news_front_page</th>\n",
       "      <th>non_markup_alphanum_characters</th>\n",
       "      <th>numberOfLinks</th>\n",
       "      <th>numwords_in_url</th>\n",
       "      <th>parametrizedLinkRatio</th>\n",
       "      <th>spelling_errors_ratio</th>\n",
       "      <th>label</th>\n",
       "    </tr>\n",
       "  </thead>\n",
       "  <tbody>\n",
       "    <tr>\n",
       "      <th>0</th>\n",
       "      <td>http://www.bloomberg.com/news/2010-12-23/ibm-p...</td>\n",
       "      <td>4042</td>\n",
       "      <td>{\"title\":\"IBM Sees Holographic Calls Air Breat...</td>\n",
       "      <td>business</td>\n",
       "      <td>0.789131</td>\n",
       "      <td>2.055556</td>\n",
       "      <td>0.676471</td>\n",
       "      <td>0.205882</td>\n",
       "      <td>0.047059</td>\n",
       "      <td>0.023529</td>\n",
       "      <td>...</td>\n",
       "      <td>1</td>\n",
       "      <td>1</td>\n",
       "      <td>24</td>\n",
       "      <td>0</td>\n",
       "      <td>5424</td>\n",
       "      <td>170</td>\n",
       "      <td>8</td>\n",
       "      <td>0.152941</td>\n",
       "      <td>0.079130</td>\n",
       "      <td>0</td>\n",
       "    </tr>\n",
       "    <tr>\n",
       "      <th>1</th>\n",
       "      <td>http://www.popsci.com/technology/article/2012-...</td>\n",
       "      <td>8471</td>\n",
       "      <td>{\"title\":\"The Fully Electronic Futuristic Star...</td>\n",
       "      <td>recreation</td>\n",
       "      <td>0.574147</td>\n",
       "      <td>3.677966</td>\n",
       "      <td>0.508021</td>\n",
       "      <td>0.288770</td>\n",
       "      <td>0.213904</td>\n",
       "      <td>0.144385</td>\n",
       "      <td>...</td>\n",
       "      <td>1</td>\n",
       "      <td>1</td>\n",
       "      <td>40</td>\n",
       "      <td>0</td>\n",
       "      <td>4973</td>\n",
       "      <td>187</td>\n",
       "      <td>9</td>\n",
       "      <td>0.181818</td>\n",
       "      <td>0.125448</td>\n",
       "      <td>1</td>\n",
       "    </tr>\n",
       "    <tr>\n",
       "      <th>2</th>\n",
       "      <td>http://www.menshealth.com/health/flu-fighting-...</td>\n",
       "      <td>1164</td>\n",
       "      <td>{\"title\":\"Fruits that Fight the Flu fruits tha...</td>\n",
       "      <td>health</td>\n",
       "      <td>0.996526</td>\n",
       "      <td>2.382883</td>\n",
       "      <td>0.562016</td>\n",
       "      <td>0.321705</td>\n",
       "      <td>0.120155</td>\n",
       "      <td>0.042636</td>\n",
       "      <td>...</td>\n",
       "      <td>1</td>\n",
       "      <td>1</td>\n",
       "      <td>55</td>\n",
       "      <td>0</td>\n",
       "      <td>2240</td>\n",
       "      <td>258</td>\n",
       "      <td>11</td>\n",
       "      <td>0.166667</td>\n",
       "      <td>0.057613</td>\n",
       "      <td>1</td>\n",
       "    </tr>\n",
       "    <tr>\n",
       "      <th>3</th>\n",
       "      <td>http://www.dumblittleman.com/2007/12/10-foolpr...</td>\n",
       "      <td>6684</td>\n",
       "      <td>{\"title\":\"10 Foolproof Tips for Better Sleep \"...</td>\n",
       "      <td>health</td>\n",
       "      <td>0.801248</td>\n",
       "      <td>1.543103</td>\n",
       "      <td>0.400000</td>\n",
       "      <td>0.100000</td>\n",
       "      <td>0.016667</td>\n",
       "      <td>0.000000</td>\n",
       "      <td>...</td>\n",
       "      <td>1</td>\n",
       "      <td>0</td>\n",
       "      <td>24</td>\n",
       "      <td>0</td>\n",
       "      <td>2737</td>\n",
       "      <td>120</td>\n",
       "      <td>5</td>\n",
       "      <td>0.041667</td>\n",
       "      <td>0.100858</td>\n",
       "      <td>1</td>\n",
       "    </tr>\n",
       "    <tr>\n",
       "      <th>4</th>\n",
       "      <td>http://bleacherreport.com/articles/1205138-the...</td>\n",
       "      <td>9006</td>\n",
       "      <td>{\"title\":\"The 50 Coolest Jerseys You Didn t Kn...</td>\n",
       "      <td>sports</td>\n",
       "      <td>0.719157</td>\n",
       "      <td>2.676471</td>\n",
       "      <td>0.500000</td>\n",
       "      <td>0.222222</td>\n",
       "      <td>0.123457</td>\n",
       "      <td>0.043210</td>\n",
       "      <td>...</td>\n",
       "      <td>1</td>\n",
       "      <td>1</td>\n",
       "      <td>14</td>\n",
       "      <td>0</td>\n",
       "      <td>12032</td>\n",
       "      <td>162</td>\n",
       "      <td>10</td>\n",
       "      <td>0.098765</td>\n",
       "      <td>0.082569</td>\n",
       "      <td>0</td>\n",
       "    </tr>\n",
       "  </tbody>\n",
       "</table>\n",
       "<p>5 rows × 27 columns</p>\n",
       "</div>"
      ],
      "text/plain": [
       "                                                 url  urlid  \\\n",
       "0  http://www.bloomberg.com/news/2010-12-23/ibm-p...   4042   \n",
       "1  http://www.popsci.com/technology/article/2012-...   8471   \n",
       "2  http://www.menshealth.com/health/flu-fighting-...   1164   \n",
       "3  http://www.dumblittleman.com/2007/12/10-foolpr...   6684   \n",
       "4  http://bleacherreport.com/articles/1205138-the...   9006   \n",
       "\n",
       "                                         boilerplate alchemy_category  \\\n",
       "0  {\"title\":\"IBM Sees Holographic Calls Air Breat...         business   \n",
       "1  {\"title\":\"The Fully Electronic Futuristic Star...       recreation   \n",
       "2  {\"title\":\"Fruits that Fight the Flu fruits tha...           health   \n",
       "3  {\"title\":\"10 Foolproof Tips for Better Sleep \"...           health   \n",
       "4  {\"title\":\"The 50 Coolest Jerseys You Didn t Kn...           sports   \n",
       "\n",
       "  alchemy_category_score  avglinksize  commonlinkratio_1  commonlinkratio_2  \\\n",
       "0               0.789131     2.055556           0.676471           0.205882   \n",
       "1               0.574147     3.677966           0.508021           0.288770   \n",
       "2               0.996526     2.382883           0.562016           0.321705   \n",
       "3               0.801248     1.543103           0.400000           0.100000   \n",
       "4               0.719157     2.676471           0.500000           0.222222   \n",
       "\n",
       "   commonlinkratio_3  commonlinkratio_4  ...    is_news  lengthyLinkDomain  \\\n",
       "0           0.047059           0.023529  ...          1                  1   \n",
       "1           0.213904           0.144385  ...          1                  1   \n",
       "2           0.120155           0.042636  ...          1                  1   \n",
       "3           0.016667           0.000000  ...          1                  0   \n",
       "4           0.123457           0.043210  ...          1                  1   \n",
       "\n",
       "   linkwordscore  news_front_page  non_markup_alphanum_characters  \\\n",
       "0             24                0                            5424   \n",
       "1             40                0                            4973   \n",
       "2             55                0                            2240   \n",
       "3             24                0                            2737   \n",
       "4             14                0                           12032   \n",
       "\n",
       "   numberOfLinks  numwords_in_url parametrizedLinkRatio  \\\n",
       "0            170                8              0.152941   \n",
       "1            187                9              0.181818   \n",
       "2            258               11              0.166667   \n",
       "3            120                5              0.041667   \n",
       "4            162               10              0.098765   \n",
       "\n",
       "   spelling_errors_ratio  label  \n",
       "0               0.079130      0  \n",
       "1               0.125448      1  \n",
       "2               0.057613      1  \n",
       "3               0.100858      1  \n",
       "4               0.082569      0  \n",
       "\n",
       "[5 rows x 27 columns]"
      ]
     },
     "execution_count": 283,
     "metadata": {},
     "output_type": "execute_result"
    }
   ],
   "source": [
    "su.head()"
   ]
  },
  {
   "cell_type": "code",
   "execution_count": 284,
   "metadata": {
    "collapsed": false
   },
   "outputs": [
    {
     "name": "stdout",
     "output_type": "stream",
     "text": [
      "url\n",
      "7395\n",
      "boilerplate\n",
      "7394\n",
      "alchemy_category\n",
      "14\n",
      "alchemy_category_score\n",
      "4806\n",
      "is_news\n",
      "2\n",
      "news_front_page\n",
      "3\n",
      "\n",
      "?                     2342\n",
      "recreation            1229\n",
      "arts_entertainment     941\n",
      "business               880\n",
      "health                 506\n",
      "sports                 380\n",
      "culture_politics       343\n",
      "computer_internet      296\n",
      "science_technology     289\n",
      "gaming                  76\n",
      "religion                72\n",
      "law_crime               31\n",
      "unknown                  6\n",
      "weather                  4\n",
      "Name: alchemy_category, dtype: int64\n",
      "1    4552\n",
      "?    2843\n",
      "Name: is_news, dtype: int64\n",
      "0    5853\n",
      "?    1248\n",
      "1     294\n",
      "Name: news_front_page, dtype: int64\n"
     ]
    }
   ],
   "source": [
    "#check non-numeric variables and decide what to make them\n",
    "\n",
    "for item in su:\n",
    "    if su[item].dtype == 'object':\n",
    "        print item\n",
    "        print su[item].nunique()\n",
    "print \n",
    "print su['alchemy_category'].value_counts() #14 variables\n",
    "print su['is_news'].value_counts() #binary wil nulls\n",
    "print su['news_front_page'].value_counts() #binary nulls\n",
    "#alchemy_category_score to float"
   ]
  },
  {
   "cell_type": "code",
   "execution_count": 285,
   "metadata": {
    "collapsed": false
   },
   "outputs": [],
   "source": [
    "# drop variables where every line is unique\n",
    "su = su.drop('url', axis=1)\n",
    "su = su.drop('urlid', axis=1)\n",
    "su = su.drop('boilerplate', axis=1)"
   ]
  },
  {
   "cell_type": "code",
   "execution_count": 286,
   "metadata": {
    "collapsed": true
   },
   "outputs": [],
   "source": [
    "#numerize non-numeric variables (except alchemy_category)\n",
    "# 'alchemy_category' #14 variables\n",
    "# 'is_news' #binary w nulls\n",
    "# 'news_front_page' #binary w nulls\n",
    "# alchemy_category_score to float\n",
    "\n",
    "su['alchemy_category_score'] = pd.to_numeric(su['alchemy_category_score'], errors='coerce')\n",
    "\n",
    "su['is_news'].replace(to_replace='1', value=1, inplace=True)\n",
    "su['is_news'].replace(to_replace='?', value=0, inplace=True)\n",
    "su['is_news'] = pd.to_numeric(su['is_news'], errors='coerce')\n",
    "\n",
    "su['news_front_page'].replace(to_replace='1', value=1, inplace=True)\n",
    "su['news_front_page'].replace(to_replace='0', value=0, inplace=True)\n",
    "su['news_front_page'].replace(to_replace='?', value=0, inplace=True)\n",
    "su['news_front_page'] = pd.to_numeric(su['news_front_page'], errors='coerce')\n"
   ]
  },
  {
   "cell_type": "code",
   "execution_count": 287,
   "metadata": {
    "collapsed": false
   },
   "outputs": [
    {
     "data": {
      "text/plain": [
       "alchemy_category_score               0.212864\n",
       "avglinksize                          8.619793\n",
       "commonlinkratio_1                    0.203133\n",
       "commonlinkratio_2                    0.146743\n",
       "commonlinkratio_3                    0.095978\n",
       "commonlinkratio_4                    0.072629\n",
       "compression_ratio                    5.704313\n",
       "embed_ratio                          0.306545\n",
       "framebased                           0.000000\n",
       "frameTagRatio                        0.041446\n",
       "hasDomainLink                        0.144162\n",
       "html_ratio                           0.052487\n",
       "image_ratio                          1.919320\n",
       "is_news                              0.486498\n",
       "lengthyLinkDomain                    0.473636\n",
       "linkwordscore                       20.393101\n",
       "news_front_page                      0.195400\n",
       "non_markup_alphanum_characters    8875.432430\n",
       "numberOfLinks                      179.466198\n",
       "numwords_in_url                      3.233111\n",
       "parametrizedLinkRatio                0.183286\n",
       "spelling_errors_ratio                0.079231\n",
       "label                                0.499856\n",
       "dtype: float64"
      ]
     },
     "execution_count": 287,
     "metadata": {},
     "output_type": "execute_result"
    }
   ],
   "source": [
    "su.std()"
   ]
  },
  {
   "cell_type": "code",
   "execution_count": 288,
   "metadata": {
    "collapsed": false
   },
   "outputs": [],
   "source": [
    "# delete variables 0 std dev\n",
    "su = su.drop('framebased', axis=1)"
   ]
  },
  {
   "cell_type": "code",
   "execution_count": 289,
   "metadata": {
    "collapsed": false
   },
   "outputs": [],
   "source": [
    "# import seaborn as sns \n",
    "\n",
    "# sns.pairplot(su)"
   ]
  },
  {
   "cell_type": "code",
   "execution_count": 290,
   "metadata": {
    "collapsed": false
   },
   "outputs": [
    {
     "data": {
      "image/png": "[encoded data removed]",
      "text/plain": [
       "<matplotlib.figure.Figure at 0x11ea329d0>"
      ]
     },
     "metadata": {},
     "output_type": "display_data"
    },
    {
     "data": {
      "image/png": "[encoded data removed]",
      "text/plain": [
       "<matplotlib.figure.Figure at 0x1258c25d0>"
      ]
     },
     "metadata": {},
     "output_type": "display_data"
    },
    {
     "data": {
      "image/png": "[encoded data removed]",
      "text/plain": [
       "<matplotlib.figure.Figure at 0x11b474050>"
      ]
     },
     "metadata": {},
     "output_type": "display_data"
    },
    {
     "data": {
      "image/png": "[encoded data removed]",
      "text/plain": [
       "<matplotlib.figure.Figure at 0x11b10b690>"
      ]
     },
     "metadata": {},
     "output_type": "display_data"
    },
    {
     "data": {
      "image/png": "[encoded data removed]",
      "text/plain": [
       "<matplotlib.figure.Figure at 0x1257ba9d0>"
      ]
     },
     "metadata": {},
     "output_type": "display_data"
    },
    {
     "data": {
      "image/png": "[encoded data removed]",
      "text/plain": [
       "<matplotlib.figure.Figure at 0x1178ee410>"
      ]
     },
     "metadata": {},
     "output_type": "display_data"
    },
    {
     "data": {
      "image/png": "[encoded data removed]",
      "text/plain": [
       "<matplotlib.figure.Figure at 0x1178ddc90>"
      ]
     },
     "metadata": {},
     "output_type": "display_data"
    },
    {
     "data": {
      "image/png": "[encoded data removed]",
      "text/plain": [
       "<matplotlib.figure.Figure at 0x1281cdad0>"
      ]
     },
     "metadata": {},
     "output_type": "display_data"
    },
    {
     "data": {
      "image/png": "[encoded data removed]",
      "text/plain": [
       "<matplotlib.figure.Figure at 0x116fa0ed0>"
      ]
     },
     "metadata": {},
     "output_type": "display_data"
    },
    {
     "data": {
      "image/png": "[encoded data removed]",
      "text/plain": [
       "<matplotlib.figure.Figure at 0x118b20890>"
      ]
     },
     "metadata": {},
     "output_type": "display_data"
    },
    {
     "data": {
      "image/png": "[encoded data removed]",
      "text/plain": [
       "<matplotlib.figure.Figure at 0x11ad1f490>"
      ]
     },
     "metadata": {},
     "output_type": "display_data"
    },
    {
     "data": {
      "image/png": "[encoded data removed]",
      "text/plain": [
       "<matplotlib.figure.Figure at 0x11af8b0d0>"
      ]
     },
     "metadata": {},
     "output_type": "display_data"
    },
    {
     "data": {
      "image/png": "[encoded data removed]",
      "text/plain": [
       "<matplotlib.figure.Figure at 0x11629bb10>"
      ]
     },
     "metadata": {},
     "output_type": "display_data"
    },
    {
     "data": {
      "image/png": "[encoded data removed]",
      "text/plain": [
       "<matplotlib.figure.Figure at 0x125829d90>"
      ]
     },
     "metadata": {},
     "output_type": "display_data"
    },
    {
     "data": {
      "image/png": "[encoded data removed]",
      "text/plain": [
       "<matplotlib.figure.Figure at 0x1251abe90>"
      ]
     },
     "metadata": {},
     "output_type": "display_data"
    },
    {
     "data": {
      "image/png": "[encoded data removed]",
      "text/plain": [
       "<matplotlib.figure.Figure at 0x118686e50>"
      ]
     },
     "metadata": {},
     "output_type": "display_data"
    },
    {
     "data": {
      "image/png": "[encoded data removed]",
      "text/plain": [
       "<matplotlib.figure.Figure at 0x11b341910>"
      ]
     },
     "metadata": {},
     "output_type": "display_data"
    },
    {
     "data": {
      "image/png": "[encoded data removed]",
      "text/plain": [
       "<matplotlib.figure.Figure at 0x11b056110>"
      ]
     },
     "metadata": {},
     "output_type": "display_data"
    },
    {
     "data": {
      "image/png": "[encoded data removed]",
      "text/plain": [
       "<matplotlib.figure.Figure at 0x11e496d10>"
      ]
     },
     "metadata": {},
     "output_type": "display_data"
    },
    {
     "data": {
      "image/png": "[encoded data removed]",
      "text/plain": [
       "<matplotlib.figure.Figure at 0x1259a8e10>"
      ]
     },
     "metadata": {},
     "output_type": "display_data"
    },
    {
     "data": {
      "image/png": "[encoded data removed]",
      "text/plain": [
       "<matplotlib.figure.Figure at 0x118738610>"
      ]
     },
     "metadata": {},
     "output_type": "display_data"
    },
    {
     "data": {
      "image/png": "[encoded data removed]",
      "text/plain": [
       "<matplotlib.figure.Figure at 0x118a46950>"
      ]
     },
     "metadata": {},
     "output_type": "display_data"
    }
   ],
   "source": [
    "for item in su.describe().columns:\n",
    "    plt.figure()\n",
    "    plt.hist(su[item].dropna())\n",
    "    plt.title(item)"
   ]
  },
  {
   "cell_type": "markdown",
   "metadata": {},
   "source": [
    "## 3. Use statsmodels' logistic regression function to look at variable significance\n",
    "\n",
    "The **`import statsmodels.formula.api as smf`** code below gives us access to a statsmodels api that can run logistic regressions using patsy-style formulas.\n",
    "\n",
    "Ex:\n",
    "\n",
    "```python\n",
    "formula = 'target ~ var1 + var2 + C(var3) -1'\n",
    "logreg = smf.logit(formula, data=data)\n",
    "logreg_results = logreg.fit()\n",
    "print logreg_results.summary()\n",
    "```\n",
    "\n",
    "---"
   ]
  },
  {
   "cell_type": "markdown",
   "metadata": {},
   "source": [
    "### 3.1 Run a logistic regression predicting evergreen from the numeric columns\n",
    "\n",
    "And print out the results as shown in the example above.\n",
    "\n",
    "\n",
    "---"
   ]
  },
  {
   "cell_type": "code",
   "execution_count": 358,
   "metadata": {
    "collapsed": false
   },
   "outputs": [
    {
     "name": "stdout",
     "output_type": "stream",
     "text": [
      "Optimization terminated successfully.\n",
      "         Current function value: 0.651075\n",
      "         Iterations 5\n"
     ]
    },
    {
     "data": {
      "text/html": [
       "<table class=\"simpletable\">\n",
       "<caption>Logit Regression Results</caption>\n",
       "<tr>\n",
       "  <th>Dep. Variable:</th>       <td>label</td>      <th>  No. Observations:  </th>  <td>  5053</td>  \n",
       "</tr>\n",
       "<tr>\n",
       "  <th>Model:</th>               <td>Logit</td>      <th>  Df Residuals:      </th>  <td>  5032</td>  \n",
       "</tr>\n",
       "<tr>\n",
       "  <th>Method:</th>               <td>MLE</td>       <th>  Df Model:          </th>  <td>    20</td>  \n",
       "</tr>\n",
       "<tr>\n",
       "  <th>Date:</th>          <td>Thu, 19 May 2016</td> <th>  Pseudo R-squ.:     </th>  <td>0.05977</td> \n",
       "</tr>\n",
       "<tr>\n",
       "  <th>Time:</th>              <td>16:27:38</td>     <th>  Log-Likelihood:    </th> <td> -3289.9</td> \n",
       "</tr>\n",
       "<tr>\n",
       "  <th>converged:</th>           <td>True</td>       <th>  LL-Null:           </th> <td> -3499.0</td> \n",
       "</tr>\n",
       "<tr>\n",
       "  <th> </th>                      <td> </td>        <th>  LLR p-value:       </th> <td>3.298e-76</td>\n",
       "</tr>\n",
       "</table>\n",
       "<table class=\"simpletable\">\n",
       "<tr>\n",
       "                 <td></td>                   <th>coef</th>     <th>std err</th>      <th>z</th>      <th>P>|z|</th> <th>[95.0% Conf. Int.]</th> \n",
       "</tr>\n",
       "<tr>\n",
       "  <th>alchemy_category_score</th>         <td>   -0.5924</td> <td>    0.138</td> <td>   -4.300</td> <td> 0.000</td> <td>   -0.862    -0.322</td>\n",
       "</tr>\n",
       "<tr>\n",
       "  <th>avglinksize</th>                    <td>    0.0037</td> <td>    0.003</td> <td>    1.167</td> <td> 0.243</td> <td>   -0.003     0.010</td>\n",
       "</tr>\n",
       "<tr>\n",
       "  <th>commonlinkratio_1</th>              <td>    1.0475</td> <td>    0.272</td> <td>    3.854</td> <td> 0.000</td> <td>    0.515     1.580</td>\n",
       "</tr>\n",
       "<tr>\n",
       "  <th>commonlinkratio_2</th>              <td>   -0.3261</td> <td>    0.461</td> <td>   -0.708</td> <td> 0.479</td> <td>   -1.229     0.577</td>\n",
       "</tr>\n",
       "<tr>\n",
       "  <th>commonlinkratio_3</th>              <td>    2.8815</td> <td>    0.881</td> <td>    3.269</td> <td> 0.001</td> <td>    1.154     4.609</td>\n",
       "</tr>\n",
       "<tr>\n",
       "  <th>commonlinkratio_4</th>              <td>   -1.9829</td> <td>    0.906</td> <td>   -2.190</td> <td> 0.029</td> <td>   -3.758    -0.208</td>\n",
       "</tr>\n",
       "<tr>\n",
       "  <th>compression_ratio</th>              <td>   -0.0074</td> <td>    0.014</td> <td>   -0.534</td> <td> 0.594</td> <td>   -0.035     0.020</td>\n",
       "</tr>\n",
       "<tr>\n",
       "  <th>embed_ratio</th>                    <td>   -0.4133</td> <td>    0.225</td> <td>   -1.833</td> <td> 0.067</td> <td>   -0.855     0.029</td>\n",
       "</tr>\n",
       "<tr>\n",
       "  <th>frameTagRatio</th>                  <td>   -6.9680</td> <td>    0.962</td> <td>   -7.240</td> <td> 0.000</td> <td>   -8.854    -5.082</td>\n",
       "</tr>\n",
       "<tr>\n",
       "  <th>hasDomainLink</th>                  <td>    0.0460</td> <td>    0.212</td> <td>    0.217</td> <td> 0.829</td> <td>   -0.370     0.462</td>\n",
       "</tr>\n",
       "<tr>\n",
       "  <th>html_ratio</th>                     <td>    3.9605</td> <td>    0.475</td> <td>    8.334</td> <td> 0.000</td> <td>    3.029     4.892</td>\n",
       "</tr>\n",
       "<tr>\n",
       "  <th>image_ratio</th>                    <td>    0.0056</td> <td>    0.015</td> <td>    0.360</td> <td> 0.719</td> <td>   -0.025     0.036</td>\n",
       "</tr>\n",
       "<tr>\n",
       "  <th>is_news</th>                        <td>    0.1115</td> <td>    0.067</td> <td>    1.672</td> <td> 0.094</td> <td>   -0.019     0.242</td>\n",
       "</tr>\n",
       "<tr>\n",
       "  <th>lengthyLinkDomain</th>              <td>    0.0440</td> <td>    0.076</td> <td>    0.577</td> <td> 0.564</td> <td>   -0.105     0.193</td>\n",
       "</tr>\n",
       "<tr>\n",
       "  <th>linkwordscore</th>                  <td>   -0.0223</td> <td>    0.002</td> <td>  -10.343</td> <td> 0.000</td> <td>   -0.027    -0.018</td>\n",
       "</tr>\n",
       "<tr>\n",
       "  <th>news_front_page</th>                <td>   -0.4371</td> <td>    0.152</td> <td>   -2.876</td> <td> 0.004</td> <td>   -0.735    -0.139</td>\n",
       "</tr>\n",
       "<tr>\n",
       "  <th>non_markup_alphanum_characters</th> <td>-2.154e-05</td> <td> 5.94e-06</td> <td>   -3.629</td> <td> 0.000</td> <td>-3.32e-05 -9.91e-06</td>\n",
       "</tr>\n",
       "<tr>\n",
       "  <th>numberOfLinks</th>                  <td>    0.0016</td> <td>    0.000</td> <td>    5.762</td> <td> 0.000</td> <td>    0.001     0.002</td>\n",
       "</tr>\n",
       "<tr>\n",
       "  <th>numwords_in_url</th>                <td>   -0.0285</td> <td>    0.010</td> <td>   -2.830</td> <td> 0.005</td> <td>   -0.048    -0.009</td>\n",
       "</tr>\n",
       "<tr>\n",
       "  <th>parametrizedLinkRatio</th>          <td>    0.3147</td> <td>    0.170</td> <td>    1.849</td> <td> 0.064</td> <td>   -0.019     0.648</td>\n",
       "</tr>\n",
       "<tr>\n",
       "  <th>spelling_errors_ratio</th>          <td>   -2.4835</td> <td>    0.557</td> <td>   -4.458</td> <td> 0.000</td> <td>   -3.575    -1.392</td>\n",
       "</tr>\n",
       "</table>"
      ],
      "text/plain": [
       "<class 'statsmodels.iolib.summary.Summary'>\n",
       "\"\"\"\n",
       "                           Logit Regression Results                           \n",
       "==============================================================================\n",
       "Dep. Variable:                  label   No. Observations:                 5053\n",
       "Model:                          Logit   Df Residuals:                     5032\n",
       "Method:                           MLE   Df Model:                           20\n",
       "Date:                Thu, 19 May 2016   Pseudo R-squ.:                 0.05977\n",
       "Time:                        16:27:38   Log-Likelihood:                -3289.9\n",
       "converged:                       True   LL-Null:                       -3499.0\n",
       "                                        LLR p-value:                 3.298e-76\n",
       "==================================================================================================\n",
       "                                     coef    std err          z      P>|z|      [95.0% Conf. Int.]\n",
       "--------------------------------------------------------------------------------------------------\n",
       "alchemy_category_score            -0.5924      0.138     -4.300      0.000        -0.862    -0.322\n",
       "avglinksize                        0.0037      0.003      1.167      0.243        -0.003     0.010\n",
       "commonlinkratio_1                  1.0475      0.272      3.854      0.000         0.515     1.580\n",
       "commonlinkratio_2                 -0.3261      0.461     -0.708      0.479        -1.229     0.577\n",
       "commonlinkratio_3                  2.8815      0.881      3.269      0.001         1.154     4.609\n",
       "commonlinkratio_4                 -1.9829      0.906     -2.190      0.029        -3.758    -0.208\n",
       "compression_ratio                 -0.0074      0.014     -0.534      0.594        -0.035     0.020\n",
       "embed_ratio                       -0.4133      0.225     -1.833      0.067        -0.855     0.029\n",
       "frameTagRatio                     -6.9680      0.962     -7.240      0.000        -8.854    -5.082\n",
       "hasDomainLink                      0.0460      0.212      0.217      0.829        -0.370     0.462\n",
       "html_ratio                         3.9605      0.475      8.334      0.000         3.029     4.892\n",
       "image_ratio                        0.0056      0.015      0.360      0.719        -0.025     0.036\n",
       "is_news                            0.1115      0.067      1.672      0.094        -0.019     0.242\n",
       "lengthyLinkDomain                  0.0440      0.076      0.577      0.564        -0.105     0.193\n",
       "linkwordscore                     -0.0223      0.002    -10.343      0.000        -0.027    -0.018\n",
       "news_front_page                   -0.4371      0.152     -2.876      0.004        -0.735    -0.139\n",
       "non_markup_alphanum_characters -2.154e-05   5.94e-06     -3.629      0.000     -3.32e-05 -9.91e-06\n",
       "numberOfLinks                      0.0016      0.000      5.762      0.000         0.001     0.002\n",
       "numwords_in_url                   -0.0285      0.010     -2.830      0.005        -0.048    -0.009\n",
       "parametrizedLinkRatio              0.3147      0.170      1.849      0.064        -0.019     0.648\n",
       "spelling_errors_ratio             -2.4835      0.557     -4.458      0.000        -3.575    -1.392\n",
       "==================================================================================================\n",
       "\"\"\""
      ]
     },
     "execution_count": 358,
     "metadata": {},
     "output_type": "execute_result"
    }
   ],
   "source": [
    "import statsmodels.formula.api as smf\n",
    "import statsmodels.api as sm\n",
    "\n",
    "formula = 'label ~ alchemy_category_score\\\n",
    "+avglinksize \\\n",
    "+commonlinkratio_1\\\n",
    "+commonlinkratio_2\\\n",
    "+commonlinkratio_3\\\n",
    "+commonlinkratio_4\\\n",
    "+compression_ratio\\\n",
    "+embed_ratio\\\n",
    "+frameTagRatio\\\n",
    "+hasDomainLink\\\n",
    "+html_ratio\\\n",
    "+image_ratio\\\n",
    "+is_news\\\n",
    "+lengthyLinkDomain\\\n",
    "+linkwordscore\\\n",
    "+news_front_page\\\n",
    "+non_markup_alphanum_characters\\\n",
    "+numberOfLinks\\\n",
    "+numwords_in_url\\\n",
    "+parametrizedLinkRatio\\\n",
    "+spelling_errors_ratio -1'\n",
    "\n",
    "logreg = smf.logit(formula, data=su)\n",
    "logreg_results = logreg.fit()\n",
    "logreg_results.summary()"
   ]
  },
  {
   "cell_type": "markdown",
   "metadata": {},
   "source": [
    "### 3.2 Run a logistic regression predicting evergreen from the numeric columns and a categorical variable of alchemy_category\n",
    "\n",
    "And print out the results as shown in the example.\n",
    "\n",
    "---"
   ]
  },
  {
   "cell_type": "code",
   "execution_count": 365,
   "metadata": {
    "collapsed": false
   },
   "outputs": [
    {
     "name": "stdout",
     "output_type": "stream",
     "text": [
      "Warning: Maximum number of iterations has been exceeded.\n",
      "         Current function value: 0.593381\n",
      "         Iterations: 10000\n"
     ]
    },
    {
     "name": "stderr",
     "output_type": "stream",
     "text": [
      "/Users/boyan/anaconda/lib/python2.7/site-packages/statsmodels/base/model.py:466: ConvergenceWarning: Maximum Likelihood optimization failed to converge. Check mle_retvals\n",
      "  \"Check mle_retvals\", ConvergenceWarning)\n"
     ]
    },
    {
     "data": {
      "text/html": [
       "<table class=\"simpletable\">\n",
       "<caption>Logit Regression Results</caption>\n",
       "<tr>\n",
       "  <th>Dep. Variable:</th>       <td>label</td>      <th>  No. Observations:  </th>   <td>  5053</td>  \n",
       "</tr>\n",
       "<tr>\n",
       "  <th>Model:</th>               <td>Logit</td>      <th>  Df Residuals:      </th>   <td>  5019</td>  \n",
       "</tr>\n",
       "<tr>\n",
       "  <th>Method:</th>               <td>MLE</td>       <th>  Df Model:          </th>   <td>    33</td>  \n",
       "</tr>\n",
       "<tr>\n",
       "  <th>Date:</th>          <td>Thu, 19 May 2016</td> <th>  Pseudo R-squ.:     </th>   <td>0.1431</td>  \n",
       "</tr>\n",
       "<tr>\n",
       "  <th>Time:</th>              <td>16:33:53</td>     <th>  Log-Likelihood:    </th>  <td> -2998.4</td> \n",
       "</tr>\n",
       "<tr>\n",
       "  <th>converged:</th>           <td>False</td>      <th>  LL-Null:           </th>  <td> -3499.0</td> \n",
       "</tr>\n",
       "<tr>\n",
       "  <th> </th>                      <td> </td>        <th>  LLR p-value:       </th> <td>5.121e-189</td>\n",
       "</tr>\n",
       "</table>\n",
       "<table class=\"simpletable\">\n",
       "<tr>\n",
       "                     <td></td>                        <th>coef</th>     <th>std err</th>      <th>z</th>      <th>P>|z|</th> <th>[95.0% Conf. Int.]</th> \n",
       "</tr>\n",
       "<tr>\n",
       "  <th>C(alchemy_category)[arts_entertainment]</th> <td>    0.9315</td> <td>    0.268</td> <td>    3.472</td> <td> 0.001</td> <td>    0.406     1.457</td>\n",
       "</tr>\n",
       "<tr>\n",
       "  <th>C(alchemy_category)[business]</th>           <td>    2.3096</td> <td>    0.270</td> <td>    8.564</td> <td> 0.000</td> <td>    1.781     2.838</td>\n",
       "</tr>\n",
       "<tr>\n",
       "  <th>C(alchemy_category)[computer_internet]</th>  <td>    0.4579</td> <td>    0.302</td> <td>    1.514</td> <td> 0.130</td> <td>   -0.135     1.051</td>\n",
       "</tr>\n",
       "<tr>\n",
       "  <th>C(alchemy_category)[culture_politics]</th>   <td>    1.2511</td> <td>    0.281</td> <td>    4.458</td> <td> 0.000</td> <td>    0.701     1.801</td>\n",
       "</tr>\n",
       "<tr>\n",
       "  <th>C(alchemy_category)[gaming]</th>             <td>    0.9453</td> <td>    0.352</td> <td>    2.689</td> <td> 0.007</td> <td>    0.256     1.634</td>\n",
       "</tr>\n",
       "<tr>\n",
       "  <th>C(alchemy_category)[health]</th>             <td>    1.7617</td> <td>    0.289</td> <td>    6.103</td> <td> 0.000</td> <td>    1.196     2.327</td>\n",
       "</tr>\n",
       "<tr>\n",
       "  <th>C(alchemy_category)[law_crime]</th>          <td>    1.4045</td> <td>    0.468</td> <td>    3.003</td> <td> 0.003</td> <td>    0.488     2.321</td>\n",
       "</tr>\n",
       "<tr>\n",
       "  <th>C(alchemy_category)[recreation]</th>         <td>    2.2079</td> <td>    0.262</td> <td>    8.419</td> <td> 0.000</td> <td>    1.694     2.722</td>\n",
       "</tr>\n",
       "<tr>\n",
       "  <th>C(alchemy_category)[religion]</th>           <td>    1.2582</td> <td>    0.359</td> <td>    3.509</td> <td> 0.000</td> <td>    0.556     1.961</td>\n",
       "</tr>\n",
       "<tr>\n",
       "  <th>C(alchemy_category)[science_technology]</th> <td>    1.2225</td> <td>    0.292</td> <td>    4.193</td> <td> 0.000</td> <td>    0.651     1.794</td>\n",
       "</tr>\n",
       "<tr>\n",
       "  <th>C(alchemy_category)[sports]</th>             <td>    0.1678</td> <td>    0.294</td> <td>    0.571</td> <td> 0.568</td> <td>   -0.408     0.743</td>\n",
       "</tr>\n",
       "<tr>\n",
       "  <th>C(alchemy_category)[unknown]</th>            <td>    1.4636</td> <td>    0.968</td> <td>    1.512</td> <td> 0.131</td> <td>   -0.434     3.361</td>\n",
       "</tr>\n",
       "<tr>\n",
       "  <th>C(alchemy_category)[weather]</th>            <td>  -25.3017</td> <td> 4.19e+05</td> <td>-6.04e-05</td> <td> 1.000</td> <td>-8.21e+05  8.21e+05</td>\n",
       "</tr>\n",
       "<tr>\n",
       "  <th>alchemy_category_score</th>                  <td>   -0.5070</td> <td>    0.160</td> <td>   -3.165</td> <td> 0.002</td> <td>   -0.821    -0.193</td>\n",
       "</tr>\n",
       "<tr>\n",
       "  <th>avglinksize</th>                             <td>    0.0049</td> <td>    0.003</td> <td>    1.413</td> <td> 0.158</td> <td>   -0.002     0.012</td>\n",
       "</tr>\n",
       "<tr>\n",
       "  <th>commonlinkratio_1</th>                       <td>    0.3457</td> <td>    0.292</td> <td>    1.183</td> <td> 0.237</td> <td>   -0.227     0.919</td>\n",
       "</tr>\n",
       "<tr>\n",
       "  <th>commonlinkratio_2</th>                       <td>    0.0697</td> <td>    0.497</td> <td>    0.140</td> <td> 0.888</td> <td>   -0.904     1.043</td>\n",
       "</tr>\n",
       "<tr>\n",
       "  <th>commonlinkratio_3</th>                       <td>    2.5890</td> <td>    0.917</td> <td>    2.824</td> <td> 0.005</td> <td>    0.792     4.386</td>\n",
       "</tr>\n",
       "<tr>\n",
       "  <th>commonlinkratio_4</th>                       <td>   -1.8462</td> <td>    0.937</td> <td>   -1.971</td> <td> 0.049</td> <td>   -3.682    -0.011</td>\n",
       "</tr>\n",
       "<tr>\n",
       "  <th>compression_ratio</th>                       <td>    0.0015</td> <td>    0.015</td> <td>    0.104</td> <td> 0.918</td> <td>   -0.027     0.030</td>\n",
       "</tr>\n",
       "<tr>\n",
       "  <th>embed_ratio</th>                             <td>   -0.3196</td> <td>    0.239</td> <td>   -1.338</td> <td> 0.181</td> <td>   -0.788     0.148</td>\n",
       "</tr>\n",
       "<tr>\n",
       "  <th>frameTagRatio</th>                           <td>   -7.5926</td> <td>    1.021</td> <td>   -7.440</td> <td> 0.000</td> <td>   -9.593    -5.592</td>\n",
       "</tr>\n",
       "<tr>\n",
       "  <th>hasDomainLink</th>                           <td>   -0.1205</td> <td>    0.219</td> <td>   -0.549</td> <td> 0.583</td> <td>   -0.551     0.310</td>\n",
       "</tr>\n",
       "<tr>\n",
       "  <th>html_ratio</th>                              <td>   -0.2840</td> <td>    0.762</td> <td>   -0.373</td> <td> 0.709</td> <td>   -1.778     1.210</td>\n",
       "</tr>\n",
       "<tr>\n",
       "  <th>image_ratio</th>                             <td>   -0.0018</td> <td>    0.016</td> <td>   -0.114</td> <td> 0.909</td> <td>   -0.033     0.029</td>\n",
       "</tr>\n",
       "<tr>\n",
       "  <th>is_news</th>                                 <td>    0.1541</td> <td>    0.072</td> <td>    2.149</td> <td> 0.032</td> <td>    0.014     0.295</td>\n",
       "</tr>\n",
       "<tr>\n",
       "  <th>lengthyLinkDomain</th>                       <td>    0.0804</td> <td>    0.081</td> <td>    0.992</td> <td> 0.321</td> <td>   -0.078     0.239</td>\n",
       "</tr>\n",
       "<tr>\n",
       "  <th>linkwordscore</th>                           <td>   -0.0225</td> <td>    0.002</td> <td>   -9.744</td> <td> 0.000</td> <td>   -0.027    -0.018</td>\n",
       "</tr>\n",
       "<tr>\n",
       "  <th>news_front_page</th>                         <td>   -0.6593</td> <td>    0.163</td> <td>   -4.046</td> <td> 0.000</td> <td>   -0.979    -0.340</td>\n",
       "</tr>\n",
       "<tr>\n",
       "  <th>non_markup_alphanum_characters</th>          <td>-1.432e-05</td> <td> 6.14e-06</td> <td>   -2.333</td> <td> 0.020</td> <td>-2.64e-05 -2.29e-06</td>\n",
       "</tr>\n",
       "<tr>\n",
       "  <th>numberOfLinks</th>                           <td>    0.0006</td> <td>    0.000</td> <td>    2.165</td> <td> 0.030</td> <td> 6.06e-05     0.001</td>\n",
       "</tr>\n",
       "<tr>\n",
       "  <th>numwords_in_url</th>                         <td>   -0.0409</td> <td>    0.011</td> <td>   -3.797</td> <td> 0.000</td> <td>   -0.062    -0.020</td>\n",
       "</tr>\n",
       "<tr>\n",
       "  <th>parametrizedLinkRatio</th>                   <td>   -0.0412</td> <td>    0.185</td> <td>   -0.223</td> <td> 0.823</td> <td>   -0.403     0.321</td>\n",
       "</tr>\n",
       "<tr>\n",
       "  <th>spelling_errors_ratio</th>                   <td>   -2.9693</td> <td>    0.598</td> <td>   -4.966</td> <td> 0.000</td> <td>   -4.141    -1.797</td>\n",
       "</tr>\n",
       "</table>"
      ],
      "text/plain": [
       "<class 'statsmodels.iolib.summary.Summary'>\n",
       "\"\"\"\n",
       "                           Logit Regression Results                           \n",
       "==============================================================================\n",
       "Dep. Variable:                  label   No. Observations:                 5053\n",
       "Model:                          Logit   Df Residuals:                     5019\n",
       "Method:                           MLE   Df Model:                           33\n",
       "Date:                Thu, 19 May 2016   Pseudo R-squ.:                  0.1431\n",
       "Time:                        16:33:53   Log-Likelihood:                -2998.4\n",
       "converged:                      False   LL-Null:                       -3499.0\n",
       "                                        LLR p-value:                5.121e-189\n",
       "===========================================================================================================\n",
       "                                              coef    std err          z      P>|z|      [95.0% Conf. Int.]\n",
       "-----------------------------------------------------------------------------------------------------------\n",
       "C(alchemy_category)[arts_entertainment]     0.9315      0.268      3.472      0.001         0.406     1.457\n",
       "C(alchemy_category)[business]               2.3096      0.270      8.564      0.000         1.781     2.838\n",
       "C(alchemy_category)[computer_internet]      0.4579      0.302      1.514      0.130        -0.135     1.051\n",
       "C(alchemy_category)[culture_politics]       1.2511      0.281      4.458      0.000         0.701     1.801\n",
       "C(alchemy_category)[gaming]                 0.9453      0.352      2.689      0.007         0.256     1.634\n",
       "C(alchemy_category)[health]                 1.7617      0.289      6.103      0.000         1.196     2.327\n",
       "C(alchemy_category)[law_crime]              1.4045      0.468      3.003      0.003         0.488     2.321\n",
       "C(alchemy_category)[recreation]             2.2079      0.262      8.419      0.000         1.694     2.722\n",
       "C(alchemy_category)[religion]               1.2582      0.359      3.509      0.000         0.556     1.961\n",
       "C(alchemy_category)[science_technology]     1.2225      0.292      4.193      0.000         0.651     1.794\n",
       "C(alchemy_category)[sports]                 0.1678      0.294      0.571      0.568        -0.408     0.743\n",
       "C(alchemy_category)[unknown]                1.4636      0.968      1.512      0.131        -0.434     3.361\n",
       "C(alchemy_category)[weather]              -25.3017   4.19e+05  -6.04e-05      1.000     -8.21e+05  8.21e+05\n",
       "alchemy_category_score                     -0.5070      0.160     -3.165      0.002        -0.821    -0.193\n",
       "avglinksize                                 0.0049      0.003      1.413      0.158        -0.002     0.012\n",
       "commonlinkratio_1                           0.3457      0.292      1.183      0.237        -0.227     0.919\n",
       "commonlinkratio_2                           0.0697      0.497      0.140      0.888        -0.904     1.043\n",
       "commonlinkratio_3                           2.5890      0.917      2.824      0.005         0.792     4.386\n",
       "commonlinkratio_4                          -1.8462      0.937     -1.971      0.049        -3.682    -0.011\n",
       "compression_ratio                           0.0015      0.015      0.104      0.918        -0.027     0.030\n",
       "embed_ratio                                -0.3196      0.239     -1.338      0.181        -0.788     0.148\n",
       "frameTagRatio                              -7.5926      1.021     -7.440      0.000        -9.593    -5.592\n",
       "hasDomainLink                              -0.1205      0.219     -0.549      0.583        -0.551     0.310\n",
       "html_ratio                                 -0.2840      0.762     -0.373      0.709        -1.778     1.210\n",
       "image_ratio                                -0.0018      0.016     -0.114      0.909        -0.033     0.029\n",
       "is_news                                     0.1541      0.072      2.149      0.032         0.014     0.295\n",
       "lengthyLinkDomain                           0.0804      0.081      0.992      0.321        -0.078     0.239\n",
       "linkwordscore                              -0.0225      0.002     -9.744      0.000        -0.027    -0.018\n",
       "news_front_page                            -0.6593      0.163     -4.046      0.000        -0.979    -0.340\n",
       "non_markup_alphanum_characters          -1.432e-05   6.14e-06     -2.333      0.020     -2.64e-05 -2.29e-06\n",
       "numberOfLinks                               0.0006      0.000      2.165      0.030      6.06e-05     0.001\n",
       "numwords_in_url                            -0.0409      0.011     -3.797      0.000        -0.062    -0.020\n",
       "parametrizedLinkRatio                      -0.0412      0.185     -0.223      0.823        -0.403     0.321\n",
       "spelling_errors_ratio                      -2.9693      0.598     -4.966      0.000        -4.141    -1.797\n",
       "===========================================================================================================\n",
       "\"\"\""
      ]
     },
     "execution_count": 365,
     "metadata": {},
     "output_type": "execute_result"
    }
   ],
   "source": [
    "#adding categorical variable breaks the model = too many iterations\n",
    "\n",
    "formula = 'label ~ alchemy_category_score\\\n",
    "+avglinksize \\\n",
    "+commonlinkratio_1\\\n",
    "+commonlinkratio_2\\\n",
    "+commonlinkratio_3\\\n",
    "+commonlinkratio_4\\\n",
    "+compression_ratio\\\n",
    "+embed_ratio\\\n",
    "+frameTagRatio\\\n",
    "+hasDomainLink\\\n",
    "+html_ratio\\\n",
    "+image_ratio\\\n",
    "+is_news\\\n",
    "+lengthyLinkDomain\\\n",
    "+linkwordscore\\\n",
    "+news_front_page\\\n",
    "+non_markup_alphanum_characters\\\n",
    "+numberOfLinks\\\n",
    "+numwords_in_url\\\n",
    "+parametrizedLinkRatio\\\n",
    "+spelling_errors_ratio \\\n",
    "+C(alchemy_category) -1'\n",
    "\n",
    "logreg_cat = smf.logit(formula, data=su)\n",
    "logreg_cat_results = logreg_cat.fit(maxiter=10000)\n",
    "logreg_cat_results.summary()"
   ]
  },
  {
   "cell_type": "code",
   "execution_count": 313,
   "metadata": {
    "collapsed": false
   },
   "outputs": [
    {
     "name": "stdout",
     "output_type": "stream",
     "text": [
      "Optimization terminated successfully.\n",
      "         Current function value: 0.651075\n",
      "         Iterations 5\n",
      "alchemy_category_score\n",
      "commonlinkratio_1\n",
      "commonlinkratio_3\n",
      "commonlinkratio_4\n",
      "frameTagRatio\n",
      "html_ratio\n",
      "linkwordscore\n",
      "news_front_page\n",
      "non_markup_alphanum_characters\n",
      "numberOfLinks\n",
      "numwords_in_url\n",
      "spelling_errors_ratio\n"
     ]
    }
   ],
   "source": [
    "logreg_results = logreg.fit().summary().as_html()\n",
    "\n",
    "res = pd.read_html(logreg_results)\n",
    "\n",
    "res_vars = res[1]\n",
    "\n",
    "\n",
    "for i in range(1,len(res_vars)):\n",
    "    if float(res_vars[4][i]) < 0.05:\n",
    "        print res_vars[0][i]"
   ]
  },
  {
   "cell_type": "markdown",
   "metadata": {},
   "source": [
    "## 4. Use sklearn to cross-validate the accuracy of the model above\n",
    "\n",
    "Normalize the numeric and categorical columns of the predictor matrix.\n",
    "\n",
    "---"
   ]
  },
  {
   "cell_type": "code",
   "execution_count": 341,
   "metadata": {
    "collapsed": true
   },
   "outputs": [],
   "source": [
    "su = pd.concat([su, pd.get_dummies((su['alchemy_category']), prefix='alch_cat', prefix_sep='_')], axis=1)"
   ]
  },
  {
   "cell_type": "code",
   "execution_count": 342,
   "metadata": {
    "collapsed": true
   },
   "outputs": [],
   "source": [
    "from sklearn.preprocessing import StandardScaler\n",
    "\n",
    "ncols = []\n",
    "for item in su.describe().columns:\n",
    "    ncols.append(item)\n",
    "    \n",
    "numerical = su[ncols]\n",
    "\n",
    "mms = StandardScaler()\n",
    "ns = mms.fit_transform(numerical)\n",
    "scaled_cols = ['scaled_'+s for s in ncols]\n",
    "numerical_scaled = pd.DataFrame(ns, columns = scaled_cols)"
   ]
  },
  {
   "cell_type": "code",
   "execution_count": 368,
   "metadata": {
    "collapsed": false
   },
   "outputs": [],
   "source": [
    "from sklearn.cross_validation import train_test_split\n",
    "from sklearn.cross_validation import cross_val_score\n",
    "from sklearn.metrics import confusion_matrix, classification_report\n",
    "from sklearn.linear_model import LogisticRegression\n",
    "\n",
    "X = []\n",
    "for item in su.columns:\n",
    "    X.append(item)\n",
    "X.remove('alchemy_category')\n",
    "X.remove('label')\n",
    "\n",
    "su = su.dropna()\n",
    "X = su[X]\n",
    "y = su['label']\n",
    "X_train, X_test, y_train, y_test = train_test_split(X, y, test_size=.2)\n",
    "\n"
   ]
  },
  {
   "cell_type": "code",
   "execution_count": 369,
   "metadata": {
    "collapsed": false
   },
   "outputs": [],
   "source": [
    "lr = LogisticRegression()\n",
    "lr.fit(X_train, y_train)\n",
    "\n",
    "y_pred = lr.predict(X_test)"
   ]
  },
  {
   "cell_type": "code",
   "execution_count": 370,
   "metadata": {
    "collapsed": false
   },
   "outputs": [
    {
     "data": {
      "text/html": [
       "<div>\n",
       "<table border=\"1\" class=\"dataframe\">\n",
       "  <thead>\n",
       "    <tr style=\"text-align: right;\">\n",
       "      <th></th>\n",
       "      <th>0</th>\n",
       "      <th>1</th>\n",
       "    </tr>\n",
       "  </thead>\n",
       "  <tbody>\n",
       "    <tr>\n",
       "      <th>31</th>\n",
       "      <td>alch_cat_sports</td>\n",
       "      <td>[-1.11432743262]</td>\n",
       "    </tr>\n",
       "    <tr>\n",
       "      <th>23</th>\n",
       "      <td>alch_cat_computer_internet</td>\n",
       "      <td>[-0.86066562324]</td>\n",
       "    </tr>\n",
       "    <tr>\n",
       "      <th>15</th>\n",
       "      <td>news_front_page</td>\n",
       "      <td>[-0.590062984543]</td>\n",
       "    </tr>\n",
       "    <tr>\n",
       "      <th>20</th>\n",
       "      <td>spelling_errors_ratio</td>\n",
       "      <td>[-0.456112660964]</td>\n",
       "    </tr>\n",
       "    <tr>\n",
       "      <th>0</th>\n",
       "      <td>alchemy_category_score</td>\n",
       "      <td>[-0.371470409512]</td>\n",
       "    </tr>\n",
       "    <tr>\n",
       "      <th>8</th>\n",
       "      <td>frameTagRatio</td>\n",
       "      <td>[-0.365220042893]</td>\n",
       "    </tr>\n",
       "    <tr>\n",
       "      <th>21</th>\n",
       "      <td>alch_cat_arts_entertainment</td>\n",
       "      <td>[-0.222423813666]</td>\n",
       "    </tr>\n",
       "    <tr>\n",
       "      <th>7</th>\n",
       "      <td>embed_ratio</td>\n",
       "      <td>[-0.19640713704]</td>\n",
       "    </tr>\n",
       "    <tr>\n",
       "      <th>25</th>\n",
       "      <td>alch_cat_gaming</td>\n",
       "      <td>[-0.126389963553]</td>\n",
       "    </tr>\n",
       "    <tr>\n",
       "      <th>9</th>\n",
       "      <td>hasDomainLink</td>\n",
       "      <td>[-0.124634147182]</td>\n",
       "    </tr>\n",
       "    <tr>\n",
       "      <th>19</th>\n",
       "      <td>parametrizedLinkRatio</td>\n",
       "      <td>[-0.0969927797589]</td>\n",
       "    </tr>\n",
       "    <tr>\n",
       "      <th>33</th>\n",
       "      <td>alch_cat_weather</td>\n",
       "      <td>[-0.0827791994529]</td>\n",
       "    </tr>\n",
       "    <tr>\n",
       "      <th>18</th>\n",
       "      <td>numwords_in_url</td>\n",
       "      <td>[-0.0541993700192]</td>\n",
       "    </tr>\n",
       "    <tr>\n",
       "      <th>14</th>\n",
       "      <td>linkwordscore</td>\n",
       "      <td>[-0.0253945941202]</td>\n",
       "    </tr>\n",
       "    <tr>\n",
       "      <th>10</th>\n",
       "      <td>html_ratio</td>\n",
       "      <td>[-0.023653544228]</td>\n",
       "    </tr>\n",
       "    <tr>\n",
       "      <th>6</th>\n",
       "      <td>compression_ratio</td>\n",
       "      <td>[-0.0119002329533]</td>\n",
       "    </tr>\n",
       "    <tr>\n",
       "      <th>30</th>\n",
       "      <td>alch_cat_science_technology</td>\n",
       "      <td>[-0.0106314193981]</td>\n",
       "    </tr>\n",
       "    <tr>\n",
       "      <th>16</th>\n",
       "      <td>non_markup_alphanum_characters</td>\n",
       "      <td>[-1.30548837226e-05]</td>\n",
       "    </tr>\n",
       "    <tr>\n",
       "      <th>17</th>\n",
       "      <td>numberOfLinks</td>\n",
       "      <td>[0.00158996446174]</td>\n",
       "    </tr>\n",
       "    <tr>\n",
       "      <th>11</th>\n",
       "      <td>image_ratio</td>\n",
       "      <td>[0.00266406826909]</td>\n",
       "    </tr>\n",
       "    <tr>\n",
       "      <th>1</th>\n",
       "      <td>avglinksize</td>\n",
       "      <td>[0.00299443915753]</td>\n",
       "    </tr>\n",
       "    <tr>\n",
       "      <th>27</th>\n",
       "      <td>alch_cat_law_crime</td>\n",
       "      <td>[0.0219642507712]</td>\n",
       "    </tr>\n",
       "    <tr>\n",
       "      <th>32</th>\n",
       "      <td>alch_cat_unknown</td>\n",
       "      <td>[0.0259217237443]</td>\n",
       "    </tr>\n",
       "    <tr>\n",
       "      <th>29</th>\n",
       "      <td>alch_cat_religion</td>\n",
       "      <td>[0.0614299021946]</td>\n",
       "    </tr>\n",
       "    <tr>\n",
       "      <th>13</th>\n",
       "      <td>lengthyLinkDomain</td>\n",
       "      <td>[0.0910571112836]</td>\n",
       "    </tr>\n",
       "    <tr>\n",
       "      <th>12</th>\n",
       "      <td>is_news</td>\n",
       "      <td>[0.131724818803]</td>\n",
       "    </tr>\n",
       "    <tr>\n",
       "      <th>24</th>\n",
       "      <td>alch_cat_culture_politics</td>\n",
       "      <td>[0.140325187554]</td>\n",
       "    </tr>\n",
       "    <tr>\n",
       "      <th>5</th>\n",
       "      <td>commonlinkratio_4</td>\n",
       "      <td>[0.180159416023]</td>\n",
       "    </tr>\n",
       "    <tr>\n",
       "      <th>4</th>\n",
       "      <td>commonlinkratio_3</td>\n",
       "      <td>[0.403007221532]</td>\n",
       "    </tr>\n",
       "    <tr>\n",
       "      <th>26</th>\n",
       "      <td>alch_cat_health</td>\n",
       "      <td>[0.472806844416]</td>\n",
       "    </tr>\n",
       "    <tr>\n",
       "      <th>3</th>\n",
       "      <td>commonlinkratio_2</td>\n",
       "      <td>[0.605479499413]</td>\n",
       "    </tr>\n",
       "    <tr>\n",
       "      <th>2</th>\n",
       "      <td>commonlinkratio_1</td>\n",
       "      <td>[0.71196647571]</td>\n",
       "    </tr>\n",
       "    <tr>\n",
       "      <th>28</th>\n",
       "      <td>alch_cat_recreation</td>\n",
       "      <td>[0.958280141672]</td>\n",
       "    </tr>\n",
       "    <tr>\n",
       "      <th>22</th>\n",
       "      <td>alch_cat_business</td>\n",
       "      <td>[0.99134479379]</td>\n",
       "    </tr>\n",
       "  </tbody>\n",
       "</table>\n",
       "</div>"
      ],
      "text/plain": [
       "                                 0                     1\n",
       "31                 alch_cat_sports      [-1.11432743262]\n",
       "23      alch_cat_computer_internet      [-0.86066562324]\n",
       "15                 news_front_page     [-0.590062984543]\n",
       "20           spelling_errors_ratio     [-0.456112660964]\n",
       "0           alchemy_category_score     [-0.371470409512]\n",
       "8                    frameTagRatio     [-0.365220042893]\n",
       "21     alch_cat_arts_entertainment     [-0.222423813666]\n",
       "7                      embed_ratio      [-0.19640713704]\n",
       "25                 alch_cat_gaming     [-0.126389963553]\n",
       "9                    hasDomainLink     [-0.124634147182]\n",
       "19           parametrizedLinkRatio    [-0.0969927797589]\n",
       "33                alch_cat_weather    [-0.0827791994529]\n",
       "18                 numwords_in_url    [-0.0541993700192]\n",
       "14                   linkwordscore    [-0.0253945941202]\n",
       "10                      html_ratio     [-0.023653544228]\n",
       "6                compression_ratio    [-0.0119002329533]\n",
       "30     alch_cat_science_technology    [-0.0106314193981]\n",
       "16  non_markup_alphanum_characters  [-1.30548837226e-05]\n",
       "17                   numberOfLinks    [0.00158996446174]\n",
       "11                     image_ratio    [0.00266406826909]\n",
       "1                      avglinksize    [0.00299443915753]\n",
       "27              alch_cat_law_crime     [0.0219642507712]\n",
       "32                alch_cat_unknown     [0.0259217237443]\n",
       "29               alch_cat_religion     [0.0614299021946]\n",
       "13               lengthyLinkDomain     [0.0910571112836]\n",
       "12                         is_news      [0.131724818803]\n",
       "24       alch_cat_culture_politics      [0.140325187554]\n",
       "5                commonlinkratio_4      [0.180159416023]\n",
       "4                commonlinkratio_3      [0.403007221532]\n",
       "26                 alch_cat_health      [0.472806844416]\n",
       "3                commonlinkratio_2      [0.605479499413]\n",
       "2                commonlinkratio_1       [0.71196647571]\n",
       "28             alch_cat_recreation      [0.958280141672]\n",
       "22               alch_cat_business       [0.99134479379]"
      ]
     },
     "execution_count": 370,
     "metadata": {},
     "output_type": "execute_result"
    }
   ],
   "source": [
    "pd.DataFrame(zip(X.columns, np.transpose(lr.coef_))).sort_values(1)"
   ]
  },
  {
   "cell_type": "code",
   "execution_count": 371,
   "metadata": {
    "collapsed": false
   },
   "outputs": [
    {
     "data": {
      "text/plain": [
       "array([ 0.69767442,  0.61176471,  0.6547619 ,  0.61904762,  0.69047619,\n",
       "        0.75      ,  0.70238095,  0.72619048,  0.69047619,  0.69047619,\n",
       "        0.66666667,  0.64285714])"
      ]
     },
     "execution_count": 371,
     "metadata": {},
     "output_type": "execute_result"
    }
   ],
   "source": [
    "cross_val_score(lr,X_test,y_test,cv=12)"
   ]
  },
  {
   "cell_type": "code",
   "execution_count": 372,
   "metadata": {
    "collapsed": false,
    "scrolled": true
   },
   "outputs": [
    {
     "name": "stdout",
     "output_type": "stream",
     "text": [
      "             precision    recall  f1-score   support\n",
      "\n",
      "          0       0.66      0.63      0.64       458\n",
      "          1       0.70      0.73      0.72       553\n",
      "\n",
      "avg / total       0.68      0.68      0.68      1011\n",
      "\n"
     ]
    }
   ],
   "source": [
    "print classification_report(y_test, y_pred)"
   ]
  },
  {
   "cell_type": "code",
   "execution_count": 373,
   "metadata": {
    "collapsed": false
   },
   "outputs": [
    {
     "data": {
      "text/plain": [
       "array([[289, 169],\n",
       "       [151, 402]])"
      ]
     },
     "execution_count": 373,
     "metadata": {},
     "output_type": "execute_result"
    }
   ],
   "source": [
    "confusion_matrix(y_test, y_pred)"
   ]
  },
  {
   "cell_type": "markdown",
   "metadata": {},
   "source": [
    "## 5. Gridsearch regularization parameters for logistic regression\n",
    "\n",
    "Find the best regularization type (Ridge, Lasso) across a set of regularization strengths.\n",
    "\n",
    "[NOTE: C is the inverse of the regularization strength. Lower C values are stronger regularization. Having a C higher than 1 will significantly slow down the search. I'm not particularly interested in values over 1, since this is the default regularization strength in LogisticRegression.]\n",
    "\n",
    "**After you find the best set of parameters, build a Logistic Regression with those parameters and crossvalidate the score.**\n",
    "\n",
    "[NOTE 2: to run Lasso regularization the solver should be `'liblinear'`]\n",
    "\n",
    "---"
   ]
  },
  {
   "cell_type": "code",
   "execution_count": 374,
   "metadata": {
    "collapsed": false
   },
   "outputs": [
    {
     "data": {
      "text/plain": [
       "{'C': 1.0,\n",
       " 'class_weight': None,\n",
       " 'dual': False,\n",
       " 'fit_intercept': True,\n",
       " 'intercept_scaling': 1,\n",
       " 'max_iter': 100,\n",
       " 'multi_class': 'ovr',\n",
       " 'n_jobs': 1,\n",
       " 'penalty': 'l2',\n",
       " 'random_state': None,\n",
       " 'solver': 'liblinear',\n",
       " 'tol': 0.0001,\n",
       " 'verbose': 0,\n",
       " 'warm_start': False}"
      ]
     },
     "execution_count": 374,
     "metadata": {},
     "output_type": "execute_result"
    }
   ],
   "source": [
    "lr_lasso = LogisticRegression(solver='')\n",
    "lr_ridge = lr.get_params()"
   ]
  },
  {
   "cell_type": "code",
   "execution_count": 413,
   "metadata": {
    "collapsed": true
   },
   "outputs": [],
   "source": [
    "params = {\n",
    "    'C':[.9,.8,.7,.6,.5,.4,.3,.2,.1,.01],\n",
    "    'penalty':['l1','l2']\n",
    "}"
   ]
  },
  {
   "cell_type": "code",
   "execution_count": 417,
   "metadata": {
    "collapsed": false
   },
   "outputs": [
    {
     "data": {
      "text/plain": [
       "LogisticRegression(C=0.8, class_weight=None, dual=False, fit_intercept=True,\n",
       "          intercept_scaling=1, max_iter=100, multi_class='ovr', n_jobs=1,\n",
       "          penalty='l1', random_state=None, solver='liblinear', tol=0.0001,\n",
       "          verbose=0, warm_start=False)"
      ]
     },
     "execution_count": 417,
     "metadata": {},
     "output_type": "execute_result"
    }
   ],
   "source": [
    "from sklearn import grid_search\n",
    "\n",
    "gs = grid_search.GridSearchCV(lr,params,cv=12)\n",
    "gs.fit(X,y).best_estimator_\n"
   ]
  },
  {
   "cell_type": "code",
   "execution_count": 420,
   "metadata": {
    "collapsed": false
   },
   "outputs": [
    {
     "data": {
      "text/plain": [
       "array([ 0.69362018,  0.67631774,  0.67928731])"
      ]
     },
     "execution_count": 420,
     "metadata": {},
     "output_type": "execute_result"
    }
   ],
   "source": [
    "lr = LogisticRegression(C=0.8, class_weight=None, dual=False, fit_intercept=True,\n",
    "          intercept_scaling=1, max_iter=100, multi_class='ovr', n_jobs=1,\n",
    "          penalty='l1', random_state=None, solver='liblinear', tol=0.0001,\n",
    "          verbose=0, warm_start=False)\n",
    "\n",
    "cross_val_score(lr,X_train,y_train)"
   ]
  },
  {
   "cell_type": "markdown",
   "metadata": {},
   "source": [
    "## 6. Gridsearch neighbors for kNN\n",
    "\n",
    "Find the best number of neighbors with your predictors to predict the `label` target variable.\n",
    "\n",
    "Start by bulding a kNN model with a set number of neighbors, then use gridsearch to run through a series of neighbors.\n",
    "\n",
    "---"
   ]
  },
  {
   "cell_type": "code",
   "execution_count": null,
   "metadata": {
    "collapsed": true
   },
   "outputs": [],
   "source": []
  },
  {
   "cell_type": "markdown",
   "metadata": {},
   "source": [
    "## 7. Choose a new target from alchemy_category to predict with logistic regression\n",
    "\n",
    "**Ideally your category choice will have a small fraction of the total rows, but not TOO small!**\n",
    "\n",
    "---"
   ]
  },
  {
   "cell_type": "markdown",
   "metadata": {},
   "source": [
    "### 7.1 Chose your target category, create the Y vector, and check the fraction of instances\n",
    "\n",
    "---"
   ]
  },
  {
   "cell_type": "code",
   "execution_count": null,
   "metadata": {
    "collapsed": true
   },
   "outputs": [],
   "source": []
  },
  {
   "cell_type": "markdown",
   "metadata": {},
   "source": [
    "### 7.2 Use patsy to create an X matrix of the numeric predictors and all two-way interactions between them\n",
    "\n",
    "Ex:\n",
    "\n",
    "```python\n",
    "import patsy\n",
    "\n",
    "formula_interactions = '~ (var1 + var2 + var3)**2 -1'\n",
    "X_interactions = patsy.dmatrix(formula_interactions, data=data\n",
    "```\n",
    "\n",
    "Get the column names from the `design_info` property of the patsy X matrix.\n",
    "\n",
    "---"
   ]
  },
  {
   "cell_type": "code",
   "execution_count": null,
   "metadata": {
    "collapsed": true
   },
   "outputs": [],
   "source": []
  },
  {
   "cell_type": "markdown",
   "metadata": {},
   "source": [
    "### 7.3 Normalize the predictor matrix columns\n",
    "\n",
    "---"
   ]
  },
  {
   "cell_type": "code",
   "execution_count": null,
   "metadata": {
    "collapsed": true
   },
   "outputs": [],
   "source": []
  },
  {
   "cell_type": "markdown",
   "metadata": {},
   "source": [
    "### 7.4 Gridsearch a logistic regression to predict accuracy on your new target from the interaction predictors\n",
    "\n",
    "Include Ridge and Lasso.\n",
    "\n",
    "---"
   ]
  },
  {
   "cell_type": "code",
   "execution_count": null,
   "metadata": {
    "collapsed": true
   },
   "outputs": [],
   "source": []
  },
  {
   "cell_type": "markdown",
   "metadata": {},
   "source": [
    "### 7.5 Build a logistic regression with the optimal parameters, and look at the coefficients\n",
    "\n",
    "---"
   ]
  },
  {
   "cell_type": "code",
   "execution_count": null,
   "metadata": {
    "collapsed": true
   },
   "outputs": [],
   "source": []
  },
  {
   "cell_type": "markdown",
   "metadata": {},
   "source": [
    "### 7.6 Gridsearch parameters for a logistic regression with the same target and predictors, but score based on precision rather than accuracy\n",
    "\n",
    "Look at the documentation.\n",
    "\n",
    "---"
   ]
  },
  {
   "cell_type": "code",
   "execution_count": null,
   "metadata": {
    "collapsed": true
   },
   "outputs": [],
   "source": []
  },
  {
   "cell_type": "markdown",
   "metadata": {},
   "source": [
    "## [BONUS] 8. Build models predicting from words\n",
    "\n",
    "This is a bit of the NLP we covered in the pipeline lecture!\n",
    "\n",
    "---"
   ]
  },
  {
   "cell_type": "markdown",
   "metadata": {},
   "source": [
    "### 8.1 Choose 'body' or 'title' from the boilerplate to be the basis of your word predictors\n",
    "\n",
    "You will need to parse the json from the boilerplate field.\n",
    "\n",
    "---"
   ]
  },
  {
   "cell_type": "code",
   "execution_count": null,
   "metadata": {
    "collapsed": true
   },
   "outputs": [],
   "source": [
    "import json"
   ]
  },
  {
   "cell_type": "markdown",
   "metadata": {},
   "source": [
    "### 8.2 Use CountVectorizer to create your predictor matrix from the string column\n",
    "\n",
    "It is up to you what range of ngrams and features, and whether or not you want the columns binary or counts.\n",
    "\n",
    "---"
   ]
  },
  {
   "cell_type": "code",
   "execution_count": null,
   "metadata": {
    "collapsed": true
   },
   "outputs": [],
   "source": []
  },
  {
   "cell_type": "markdown",
   "metadata": {},
   "source": [
    "### 8.3 Gridsearch a logistic regression predicting accuracy of your chosen target category from word predictor matrix\n",
    "\n",
    "---"
   ]
  },
  {
   "cell_type": "code",
   "execution_count": null,
   "metadata": {
    "collapsed": true
   },
   "outputs": [],
   "source": []
  },
  {
   "cell_type": "markdown",
   "metadata": {},
   "source": [
    "### 8.4 Do the same as above, but score the gridsearch based on precision rather than accuracy\n",
    "\n",
    "---"
   ]
  },
  {
   "cell_type": "code",
   "execution_count": null,
   "metadata": {
    "collapsed": true
   },
   "outputs": [],
   "source": []
  },
  {
   "cell_type": "markdown",
   "metadata": {},
   "source": [
    "### 8.5 Build a logistic regression with optimal precision categories\n",
    "\n",
    "Print out the top 20 or 25 word features as ranked by their coefficients.\n",
    "\n",
    "---"
   ]
  },
  {
   "cell_type": "code",
   "execution_count": null,
   "metadata": {
    "collapsed": true
   },
   "outputs": [],
   "source": []
  }
 ],
 "metadata": {
  "kernelspec": {
   "display_name": "Python 2",
   "language": "python",
   "name": "python2"
  },
  "language_info": {
   "codemirror_mode": {
    "name": "ipython",
    "version": 2
   },
   "file_extension": ".py",
   "mimetype": "text/x-python",
   "name": "python",
   "nbconvert_exporter": "python",
   "pygments_lexer": "ipython2",
   "version": "2.7.11"
  }
 },
 "nbformat": 4,
 "nbformat_minor": 0
}
